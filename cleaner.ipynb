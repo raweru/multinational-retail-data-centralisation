{
 "cells": [
  {
   "cell_type": "code",
   "execution_count": 2,
   "metadata": {},
   "outputs": [
    {
     "name": "stdout",
     "output_type": "stream",
     "text": [
      "Index(['index', 'first_name', 'last_name', 'date_of_birth', 'company',\n",
      "       'email_address', 'address', 'country', 'country_code', 'phone_number',\n",
      "       'join_date', 'user_uuid'],\n",
      "      dtype='object')\n"
     ]
    }
   ],
   "source": [
    "import yaml\n",
    "from sqlalchemy import create_engine\n",
    "from sqlalchemy import inspect\n",
    "import pandas as pd\n",
    "import numpy as np\n",
    "from data_cleaning import DataCleaning\n",
    "from data_extraction import DataExtractor\n",
    "import tabula\n",
    "\n",
    "if __name__ == '__main__':\n",
    "    database_extractor = DataExtractor()\n",
    "    creds_dict = database_extractor.read_db_creds(\"db_creds.yaml\")\n",
    "    db_engine = database_extractor.init_db_engine(creds_dict)\n",
    "    #table_list = database_extractor.list_db_tables()\n",
    "    user_table = database_extractor.read_rds_table(\"legacy_users\")\n",
    "    print(user_table.columns)"
   ]
  },
  {
   "cell_type": "code",
   "execution_count": 7,
   "metadata": {},
   "outputs": [],
   "source": [
    "# returns a list of dataframes\n",
    "card_table = database_extractor.retrieve_pdf_data(\"https://data-handling-public.s3.eu-west-1.amazonaws.com/card_details.pdf\")"
   ]
  },
  {
   "cell_type": "code",
   "execution_count": 8,
   "metadata": {},
   "outputs": [
    {
     "name": "stdout",
     "output_type": "stream",
     "text": [
      "<class 'pandas.core.frame.DataFrame'>\n",
      "Int64Index: 15309 entries, 0 to 18\n",
      "Data columns (total 4 columns):\n",
      " #   Column                  Non-Null Count  Dtype \n",
      "---  ------                  --------------  ----- \n",
      " 0   card_number             15309 non-null  object\n",
      " 1   expiry_date             15309 non-null  object\n",
      " 2   card_provider           15309 non-null  object\n",
      " 3   date_payment_confirmed  15309 non-null  object\n",
      "dtypes: object(4)\n",
      "memory usage: 598.0+ KB\n"
     ]
    }
   ],
   "source": [
    "card_table.info()"
   ]
  },
  {
   "cell_type": "code",
   "execution_count": 36,
   "metadata": {},
   "outputs": [
    {
     "data": {
      "text/html": [
       "<div>\n",
       "<style scoped>\n",
       "    .dataframe tbody tr th:only-of-type {\n",
       "        vertical-align: middle;\n",
       "    }\n",
       "\n",
       "    .dataframe tbody tr th {\n",
       "        vertical-align: top;\n",
       "    }\n",
       "\n",
       "    .dataframe thead th {\n",
       "        text-align: right;\n",
       "    }\n",
       "</style>\n",
       "<table border=\"1\" class=\"dataframe\">\n",
       "  <thead>\n",
       "    <tr style=\"text-align: right;\">\n",
       "      <th></th>\n",
       "      <th>card_number</th>\n",
       "      <th>expiry_date</th>\n",
       "      <th>card_provider</th>\n",
       "      <th>date_payment_confirmed</th>\n",
       "    </tr>\n",
       "  </thead>\n",
       "  <tbody>\n",
       "    <tr>\n",
       "      <th>46</th>\n",
       "      <td>501836248689</td>\n",
       "      <td>03/26</td>\n",
       "      <td>Maestro</td>\n",
       "      <td>2007-04-03</td>\n",
       "    </tr>\n",
       "    <tr>\n",
       "      <th>33</th>\n",
       "      <td>4543965724175350</td>\n",
       "      <td>12/31</td>\n",
       "      <td>VISA</td>\n",
       "      <td>2003-11-26</td>\n",
       "    </tr>\n",
       "    <tr>\n",
       "      <th>16</th>\n",
       "      <td>3599840871177160</td>\n",
       "      <td>08/30</td>\n",
       "      <td>JCB</td>\n",
       "      <td>1993-01-03</td>\n",
       "    </tr>\n",
       "    <tr>\n",
       "      <th>11</th>\n",
       "      <td>6536804336408250</td>\n",
       "      <td>01/23</td>\n",
       "      <td>Discover</td>\n",
       "      <td>2011-11-23</td>\n",
       "    </tr>\n",
       "    <tr>\n",
       "      <th>36</th>\n",
       "      <td>373839736336090</td>\n",
       "      <td>02/32</td>\n",
       "      <td>American Express</td>\n",
       "      <td>2012-12-02</td>\n",
       "    </tr>\n",
       "    <tr>\n",
       "      <th>37</th>\n",
       "      <td>348963666610803</td>\n",
       "      <td>01/28</td>\n",
       "      <td>American Express</td>\n",
       "      <td>2013-07-12</td>\n",
       "    </tr>\n",
       "    <tr>\n",
       "      <th>23</th>\n",
       "      <td>346995413574165</td>\n",
       "      <td>06/24</td>\n",
       "      <td>American Express</td>\n",
       "      <td>1995-05-16</td>\n",
       "    </tr>\n",
       "    <tr>\n",
       "      <th>44</th>\n",
       "      <td>4058908066107</td>\n",
       "      <td>01/27</td>\n",
       "      <td>VISA</td>\n",
       "      <td>1997-06-03</td>\n",
       "    </tr>\n",
       "  </tbody>\n",
       "</table>\n",
       "</div>"
      ],
      "text/plain": [
       "         card_number expiry_date     card_provider date_payment_confirmed\n",
       "46      501836248689       03/26           Maestro             2007-04-03\n",
       "33  4543965724175350       12/31              VISA             2003-11-26\n",
       "16  3599840871177160       08/30               JCB             1993-01-03\n",
       "11  6536804336408250       01/23          Discover             2011-11-23\n",
       "36   373839736336090       02/32  American Express             2012-12-02\n",
       "37   348963666610803       01/28  American Express             2013-07-12\n",
       "23   346995413574165       06/24  American Express             1995-05-16\n",
       "44     4058908066107       01/27              VISA             1997-06-03"
      ]
     },
     "execution_count": 36,
     "metadata": {},
     "output_type": "execute_result"
    },
    {
     "ename": "",
     "evalue": "",
     "output_type": "error",
     "traceback": [
      "\u001b[1;31mThe Kernel crashed while executing code in the the current cell or a previous cell. Please review the code in the cell(s) to identify a possible cause of the failure. Click <a href='https://aka.ms/vscodeJupyterKernelCrash'>here</a> for more info. View Jupyter <a href='command:jupyter.viewOutput'>log</a> for further details."
     ]
    }
   ],
   "source": [
    "card_table.sample(8)"
   ]
  },
  {
   "cell_type": "code",
   "execution_count": 27,
   "metadata": {},
   "outputs": [
    {
     "name": "stdout",
     "output_type": "stream",
     "text": [
      "[]\n"
     ]
    }
   ],
   "source": [
    "values = []\n",
    "for name in card_table[\"card_number\"]:\n",
    "    for letter in str(name):\n",
    "        if letter in \"qwertyuioplkjhgfdsazxcvbnmQWERTYUIOPLKJHGFDSAZXCVBNM!#$%&'()*+,:;?@[\\]^_`{|}~\":\n",
    "            values.append(name)\n",
    "            break\n",
    "print(values)"
   ]
  },
  {
   "cell_type": "code",
   "execution_count": 21,
   "metadata": {},
   "outputs": [
    {
     "ename": "ValueError",
     "evalue": "Cannot mask with non-boolean array containing NA / NaN values",
     "output_type": "error",
     "traceback": [
      "\u001b[1;31m---------------------------------------------------------------------------\u001b[0m",
      "\u001b[1;31mValueError\u001b[0m                                Traceback (most recent call last)",
      "Cell \u001b[1;32mIn[21], line 1\u001b[0m\n\u001b[1;32m----> 1\u001b[0m card_table[card_table[\u001b[39m\"\u001b[39;49m\u001b[39mcard_number\u001b[39;49m\u001b[39m\"\u001b[39;49m]\u001b[39m.\u001b[39;49mstr\u001b[39m.\u001b[39;49mcontains(\u001b[39m\"\u001b[39;49m\u001b[39mNULL\u001b[39;49m\u001b[39m\"\u001b[39;49m, regex\u001b[39m=\u001b[39;49m\u001b[39mFalse\u001b[39;49;00m)]\n",
      "File \u001b[1;32mc:\\Users\\domin\\anaconda3\\lib\\site-packages\\pandas\\core\\frame.py:3797\u001b[0m, in \u001b[0;36mDataFrame.__getitem__\u001b[1;34m(self, key)\u001b[0m\n\u001b[0;32m   3794\u001b[0m     \u001b[39mreturn\u001b[39;00m \u001b[39mself\u001b[39m\u001b[39m.\u001b[39mwhere(key)\n\u001b[0;32m   3796\u001b[0m \u001b[39m# Do we have a (boolean) 1d indexer?\u001b[39;00m\n\u001b[1;32m-> 3797\u001b[0m \u001b[39mif\u001b[39;00m com\u001b[39m.\u001b[39;49mis_bool_indexer(key):\n\u001b[0;32m   3798\u001b[0m     \u001b[39mreturn\u001b[39;00m \u001b[39mself\u001b[39m\u001b[39m.\u001b[39m_getitem_bool_array(key)\n\u001b[0;32m   3800\u001b[0m \u001b[39m# We are left with two options: a single key, and a collection of keys,\u001b[39;00m\n\u001b[0;32m   3801\u001b[0m \u001b[39m# We interpret tuples as collections only for non-MultiIndex\u001b[39;00m\n",
      "File \u001b[1;32mc:\\Users\\domin\\anaconda3\\lib\\site-packages\\pandas\\core\\common.py:135\u001b[0m, in \u001b[0;36mis_bool_indexer\u001b[1;34m(key)\u001b[0m\n\u001b[0;32m    131\u001b[0m     na_msg \u001b[39m=\u001b[39m \u001b[39m\"\u001b[39m\u001b[39mCannot mask with non-boolean array containing NA / NaN values\u001b[39m\u001b[39m\"\u001b[39m\n\u001b[0;32m    132\u001b[0m     \u001b[39mif\u001b[39;00m lib\u001b[39m.\u001b[39minfer_dtype(key_array) \u001b[39m==\u001b[39m \u001b[39m\"\u001b[39m\u001b[39mboolean\u001b[39m\u001b[39m\"\u001b[39m \u001b[39mand\u001b[39;00m isna(key_array)\u001b[39m.\u001b[39many():\n\u001b[0;32m    133\u001b[0m         \u001b[39m# Don't raise on e.g. [\"A\", \"B\", np.nan], see\u001b[39;00m\n\u001b[0;32m    134\u001b[0m         \u001b[39m#  test_loc_getitem_list_of_labels_categoricalindex_with_na\u001b[39;00m\n\u001b[1;32m--> 135\u001b[0m         \u001b[39mraise\u001b[39;00m \u001b[39mValueError\u001b[39;00m(na_msg)\n\u001b[0;32m    136\u001b[0m     \u001b[39mreturn\u001b[39;00m \u001b[39mFalse\u001b[39;00m\n\u001b[0;32m    137\u001b[0m \u001b[39mreturn\u001b[39;00m \u001b[39mTrue\u001b[39;00m\n",
      "\u001b[1;31mValueError\u001b[0m: Cannot mask with non-boolean array containing NA / NaN values"
     ]
    }
   ],
   "source": [
    "card_table[card_table[\"card_number\"].str.contains(\"NULL\", regex=False)]"
   ]
  },
  {
   "cell_type": "code",
   "execution_count": 70,
   "metadata": {},
   "outputs": [
    {
     "data": {
      "text/plain": [
       "array(['09/26', '10/23', '09/27', '11/23', '07/27', '10/28', '11/27',\n",
       "       '11/31', '01/29', '02/32', '08/28', '09/32', '05/30', '06/28',\n",
       "       '07/24', '07/31', '03/32', '12/30', '12/25', '06/24', '10/30',\n",
       "       '04/32', '05/28', '08/27', '02/23', '08/26', '02/24', '03/29',\n",
       "       '06/25', '07/30', '01/24', '07/23', '06/31', '03/24', '02/25',\n",
       "       '01/23', '02/30', '03/27', '09/25', '07/28', '03/28', '06/29',\n",
       "       '04/23', '03/23', '05/27', '04/28', '07/32', '10/24', '11/26',\n",
       "       '02/29', '08/25', '12/22', '07/29', '07/25', '05/31', '04/24',\n",
       "       '05/25', '06/32', '05/32', '12/27', '09/31', '01/31', '11/25',\n",
       "       '12/28', '10/27', '03/26', '03/31', '10/25', '08/29', '01/28',\n",
       "       '06/30', '05/26', '04/29', '08/30', '12/23', '11/29', '02/31',\n",
       "       '09/29', '09/28', '01/27', '05/24', '08/31', '03/25', '04/31',\n",
       "       '11/24', '08/23', '04/30', '02/28', '01/30', '12/26', '10/26',\n",
       "       '04/25', '12/31', '03/30', '11/30', '08/24', '06/23', '06/27',\n",
       "       '10/31', '09/24', '01/26', '11/32', '09/23', '05/29', '04/27',\n",
       "       '12/29', '11/22', '02/26', '06/26', '01/32', '10/29', '11/28',\n",
       "       '08/32', '07/26', '02/27', '12/24', '10/32', '04/26', '01/25',\n",
       "       '05/23', '09/30'], dtype=object)"
      ]
     },
     "execution_count": 70,
     "metadata": {},
     "output_type": "execute_result"
    }
   ],
   "source": [
    "card_table[\"expiry_date\"].unique()"
   ]
  },
  {
   "cell_type": "code",
   "execution_count": 6,
   "metadata": {},
   "outputs": [
    {
     "name": "stdout",
     "output_type": "stream",
     "text": [
      "<class 'pandas.core.frame.DataFrame'>\n",
      "Int64Index: 15320 entries, 0 to 1249\n",
      "Data columns (total 11 columns):\n",
      " #   Column         Non-Null Count  Dtype \n",
      "---  ------         --------------  ----- \n",
      " 0   first_name     15320 non-null  object\n",
      " 1   last_name      15320 non-null  object\n",
      " 2   date_of_birth  15320 non-null  object\n",
      " 3   company        15320 non-null  object\n",
      " 4   email_address  15320 non-null  object\n",
      " 5   address        15320 non-null  object\n",
      " 6   country        15320 non-null  object\n",
      " 7   country_code   15320 non-null  object\n",
      " 8   phone_number   15320 non-null  object\n",
      " 9   join_date      15320 non-null  object\n",
      " 10  user_uuid      15320 non-null  object\n",
      "dtypes: object(11)\n",
      "memory usage: 1.4+ MB\n"
     ]
    }
   ],
   "source": [
    "user_table.info()"
   ]
  },
  {
   "cell_type": "code",
   "execution_count": 2,
   "metadata": {},
   "outputs": [],
   "source": [
    "data_cleaner = DataCleaning()\n",
    "user_table = data_cleaner.clean_user_data(user_table)"
   ]
  },
  {
   "cell_type": "code",
   "execution_count": 5,
   "metadata": {},
   "outputs": [
    {
     "data": {
      "text/plain": [
       "array(['2018-10-10', '2001-12-20', '2016-12-16', ..., '2016-04-15',\n",
       "       '2021-03-07', '2015-08-28'], dtype=object)"
      ]
     },
     "execution_count": 5,
     "metadata": {},
     "output_type": "execute_result"
    }
   ],
   "source": [
    "user_table.join_date.unique()"
   ]
  },
  {
   "cell_type": "code",
   "execution_count": 16,
   "metadata": {},
   "outputs": [
    {
     "data": {
      "text/html": [
       "<div>\n",
       "<style scoped>\n",
       "    .dataframe tbody tr th:only-of-type {\n",
       "        vertical-align: middle;\n",
       "    }\n",
       "\n",
       "    .dataframe tbody tr th {\n",
       "        vertical-align: top;\n",
       "    }\n",
       "\n",
       "    .dataframe thead th {\n",
       "        text-align: right;\n",
       "    }\n",
       "</style>\n",
       "<table border=\"1\" class=\"dataframe\">\n",
       "  <thead>\n",
       "    <tr style=\"text-align: right;\">\n",
       "      <th></th>\n",
       "      <th>first_name</th>\n",
       "      <th>last_name</th>\n",
       "      <th>date_of_birth</th>\n",
       "      <th>company</th>\n",
       "      <th>email_address</th>\n",
       "      <th>address</th>\n",
       "      <th>country</th>\n",
       "      <th>country_code</th>\n",
       "      <th>phone_number</th>\n",
       "      <th>join_date</th>\n",
       "      <th>user_uuid</th>\n",
       "    </tr>\n",
       "    <tr>\n",
       "      <th>index</th>\n",
       "      <th></th>\n",
       "      <th></th>\n",
       "      <th></th>\n",
       "      <th></th>\n",
       "      <th></th>\n",
       "      <th></th>\n",
       "      <th></th>\n",
       "      <th></th>\n",
       "      <th></th>\n",
       "      <th></th>\n",
       "      <th></th>\n",
       "    </tr>\n",
       "  </thead>\n",
       "  <tbody>\n",
       "    <tr>\n",
       "      <th>3405</th>\n",
       "      <td>Heinz-Willi</td>\n",
       "      <td>Schinke</td>\n",
       "      <td>2004-01-01</td>\n",
       "      <td>Gieß AG &amp; Co. KGaA</td>\n",
       "      <td>karl-augustmatthaei@schueler.de</td>\n",
       "      <td>Schuchhardtplatz 3/9, 58699 Bogen</td>\n",
       "      <td>Germany</td>\n",
       "      <td>DE</td>\n",
       "      <td>0049136585690</td>\n",
       "      <td>2002-04-01</td>\n",
       "      <td>5a57b0c9-7411-4ad6-806e-becbb1cc8318</td>\n",
       "    </tr>\n",
       "    <tr>\n",
       "      <th>6445</th>\n",
       "      <td>Edeltraut</td>\n",
       "      <td>Riehl</td>\n",
       "      <td>1979-08-13</td>\n",
       "      <td>Hartung Atzler GmbH</td>\n",
       "      <td>korbinian84@pruschke.de</td>\n",
       "      <td>Gretel-Hentschel-Platz 3/0, 23554 Wernigerode</td>\n",
       "      <td>Germany</td>\n",
       "      <td>DE</td>\n",
       "      <td>00497590950165</td>\n",
       "      <td>2018-02-15</td>\n",
       "      <td>3ad79aa6-8c5f-493c-be47-0595eec2695a</td>\n",
       "    </tr>\n",
       "    <tr>\n",
       "      <th>7563</th>\n",
       "      <td>Birte</td>\n",
       "      <td>Höfig</td>\n",
       "      <td>1995-01-15</td>\n",
       "      <td>Schäfer GmbH &amp; Co. KGaA</td>\n",
       "      <td>amielcarek@thies.net</td>\n",
       "      <td>Gutknechtallee 532, 78970 Osterburg</td>\n",
       "      <td>Germany</td>\n",
       "      <td>DE</td>\n",
       "      <td>00493265418030</td>\n",
       "      <td>1996-02-09</td>\n",
       "      <td>8ed35d68-04b7-4b64-bb10-2f4d34aa8469</td>\n",
       "    </tr>\n",
       "    <tr>\n",
       "      <th>7888</th>\n",
       "      <td>Cathrin</td>\n",
       "      <td>Stiebitz</td>\n",
       "      <td>1983-04-13</td>\n",
       "      <td>Hiller</td>\n",
       "      <td>christlknappe@heidrich.net</td>\n",
       "      <td>Laszlo-Etzold-Ring 5/5, 72362 Schongau</td>\n",
       "      <td>Germany</td>\n",
       "      <td>DE</td>\n",
       "      <td>0049998302017</td>\n",
       "      <td>2016-09-11</td>\n",
       "      <td>c7cd819a-bbff-49cd-80c9-483feb6041f1</td>\n",
       "    </tr>\n",
       "    <tr>\n",
       "      <th>6677</th>\n",
       "      <td>Joyce</td>\n",
       "      <td>Walsh</td>\n",
       "      <td>1973-09-07</td>\n",
       "      <td>Pearce-Wells</td>\n",
       "      <td>woodfiona@lee.org</td>\n",
       "      <td>Flat 9, Miah summit, West Hayley, S4 3XW</td>\n",
       "      <td>United Kingdom</td>\n",
       "      <td>GB</td>\n",
       "      <td>00441914960737</td>\n",
       "      <td>2008-11-10</td>\n",
       "      <td>7bf9b15d-c8fd-470b-86be-2d7487e29c44</td>\n",
       "    </tr>\n",
       "    <tr>\n",
       "      <th>3404</th>\n",
       "      <td>Emilie</td>\n",
       "      <td>Stahr</td>\n",
       "      <td>1941-07-14</td>\n",
       "      <td>Holt</td>\n",
       "      <td>jdoehn@schweitzer.de</td>\n",
       "      <td>Stjepan-Preiß-Allee 0/5, 60361 Gerolzhofen</td>\n",
       "      <td>Germany</td>\n",
       "      <td>DE</td>\n",
       "      <td>00499691167228</td>\n",
       "      <td>2005-10-20</td>\n",
       "      <td>5dd255d1-82bc-4628-8e8e-79ad1351dae5</td>\n",
       "    </tr>\n",
       "    <tr>\n",
       "      <th>14674</th>\n",
       "      <td>Debra</td>\n",
       "      <td>Townsend</td>\n",
       "      <td>1989-02-03</td>\n",
       "      <td>Wall-James</td>\n",
       "      <td>naomi47@brown.com</td>\n",
       "      <td>5 Ian spur, Suttonton, HU9W 0RS</td>\n",
       "      <td>United Kingdom</td>\n",
       "      <td>GB</td>\n",
       "      <td>00442920180156</td>\n",
       "      <td>1999-02-07</td>\n",
       "      <td>d83a65aa-3e5e-448e-8d62-63068a24a307</td>\n",
       "    </tr>\n",
       "    <tr>\n",
       "      <th>10433</th>\n",
       "      <td>Larissa</td>\n",
       "      <td>Kraushaar</td>\n",
       "      <td>1962-12-09</td>\n",
       "      <td>Schlosser KG</td>\n",
       "      <td>gspiess@mueller.de</td>\n",
       "      <td>Thiesstr. 15, 97488 Bützow</td>\n",
       "      <td>Germany</td>\n",
       "      <td>DE</td>\n",
       "      <td>0049366998195</td>\n",
       "      <td>2010-12-11</td>\n",
       "      <td>f7c5e6b6-43c8-40ea-8cbe-4e68c2d83f3f</td>\n",
       "    </tr>\n",
       "  </tbody>\n",
       "</table>\n",
       "</div>"
      ],
      "text/plain": [
       "        first_name  last_name date_of_birth                  company  \\\n",
       "index                                                                  \n",
       "3405   Heinz-Willi    Schinke    2004-01-01       Gieß AG & Co. KGaA   \n",
       "6445     Edeltraut      Riehl    1979-08-13      Hartung Atzler GmbH   \n",
       "7563         Birte      Höfig    1995-01-15  Schäfer GmbH & Co. KGaA   \n",
       "7888       Cathrin   Stiebitz    1983-04-13                   Hiller   \n",
       "6677         Joyce      Walsh    1973-09-07             Pearce-Wells   \n",
       "3404        Emilie      Stahr    1941-07-14                     Holt   \n",
       "14674        Debra   Townsend    1989-02-03               Wall-James   \n",
       "10433      Larissa  Kraushaar    1962-12-09             Schlosser KG   \n",
       "\n",
       "                         email_address  \\\n",
       "index                                    \n",
       "3405   karl-augustmatthaei@schueler.de   \n",
       "6445           korbinian84@pruschke.de   \n",
       "7563              amielcarek@thies.net   \n",
       "7888        christlknappe@heidrich.net   \n",
       "6677                 woodfiona@lee.org   \n",
       "3404              jdoehn@schweitzer.de   \n",
       "14674                naomi47@brown.com   \n",
       "10433               gspiess@mueller.de   \n",
       "\n",
       "                                             address         country  \\\n",
       "index                                                                  \n",
       "3405               Schuchhardtplatz 3/9, 58699 Bogen         Germany   \n",
       "6445   Gretel-Hentschel-Platz 3/0, 23554 Wernigerode         Germany   \n",
       "7563             Gutknechtallee 532, 78970 Osterburg         Germany   \n",
       "7888          Laszlo-Etzold-Ring 5/5, 72362 Schongau         Germany   \n",
       "6677        Flat 9, Miah summit, West Hayley, S4 3XW  United Kingdom   \n",
       "3404      Stjepan-Preiß-Allee 0/5, 60361 Gerolzhofen         Germany   \n",
       "14674                5 Ian spur, Suttonton, HU9W 0RS  United Kingdom   \n",
       "10433                     Thiesstr. 15, 97488 Bützow         Germany   \n",
       "\n",
       "      country_code    phone_number   join_date  \\\n",
       "index                                            \n",
       "3405            DE   0049136585690  2002-04-01   \n",
       "6445            DE  00497590950165  2018-02-15   \n",
       "7563            DE  00493265418030  1996-02-09   \n",
       "7888            DE   0049998302017  2016-09-11   \n",
       "6677            GB  00441914960737  2008-11-10   \n",
       "3404            DE  00499691167228  2005-10-20   \n",
       "14674           GB  00442920180156  1999-02-07   \n",
       "10433           DE   0049366998195  2010-12-11   \n",
       "\n",
       "                                  user_uuid  \n",
       "index                                        \n",
       "3405   5a57b0c9-7411-4ad6-806e-becbb1cc8318  \n",
       "6445   3ad79aa6-8c5f-493c-be47-0595eec2695a  \n",
       "7563   8ed35d68-04b7-4b64-bb10-2f4d34aa8469  \n",
       "7888   c7cd819a-bbff-49cd-80c9-483feb6041f1  \n",
       "6677   7bf9b15d-c8fd-470b-86be-2d7487e29c44  \n",
       "3404   5dd255d1-82bc-4628-8e8e-79ad1351dae5  \n",
       "14674  d83a65aa-3e5e-448e-8d62-63068a24a307  \n",
       "10433  f7c5e6b6-43c8-40ea-8cbe-4e68c2d83f3f  "
      ]
     },
     "execution_count": 16,
     "metadata": {},
     "output_type": "execute_result"
    }
   ],
   "source": [
    "#user_table.set_index(\"index\", inplace=True)\n",
    "user_table.sample(8)"
   ]
  },
  {
   "cell_type": "code",
   "execution_count": 36,
   "metadata": {},
   "outputs": [
    {
     "data": {
      "text/html": [
       "<div>\n",
       "<style scoped>\n",
       "    .dataframe tbody tr th:only-of-type {\n",
       "        vertical-align: middle;\n",
       "    }\n",
       "\n",
       "    .dataframe tbody tr th {\n",
       "        vertical-align: top;\n",
       "    }\n",
       "\n",
       "    .dataframe thead th {\n",
       "        text-align: right;\n",
       "    }\n",
       "</style>\n",
       "<table border=\"1\" class=\"dataframe\">\n",
       "  <thead>\n",
       "    <tr style=\"text-align: right;\">\n",
       "      <th></th>\n",
       "      <th>index</th>\n",
       "      <th>first_name</th>\n",
       "      <th>last_name</th>\n",
       "      <th>date_of_birth</th>\n",
       "      <th>company</th>\n",
       "      <th>email_address</th>\n",
       "      <th>address</th>\n",
       "      <th>country</th>\n",
       "      <th>country_code</th>\n",
       "      <th>phone_number</th>\n",
       "      <th>join_date</th>\n",
       "      <th>user_uuid</th>\n",
       "    </tr>\n",
       "  </thead>\n",
       "  <tbody>\n",
       "  </tbody>\n",
       "</table>\n",
       "</div>"
      ],
      "text/plain": [
       "Empty DataFrame\n",
       "Columns: [index, first_name, last_name, date_of_birth, company, email_address, address, country, country_code, phone_number, join_date, user_uuid]\n",
       "Index: []"
      ]
     },
     "execution_count": 36,
     "metadata": {},
     "output_type": "execute_result"
    }
   ],
   "source": [
    "user_table[user_table[\"phone_number\"].str.contains(\"[qwertyuioplkjhgfdsazxcvbnm]\", regex=True) & (user_table[\"join_date\"] == \"GB\")]"
   ]
  },
  {
   "cell_type": "code",
   "execution_count": 10,
   "metadata": {},
   "outputs": [
    {
     "data": {
      "text/plain": [
       "first_name                                             Chelsea\n",
       "last_name                                               Murphy\n",
       "date_of_birth                                       1940-04-28\n",
       "company                                           Read-Harding\n",
       "email_address                              jadepowell@bird.com\n",
       "address          Flat 3, Preston curve, North Lindsey, ML9 6PU\n",
       "country                                         United Kingdom\n",
       "country_code                                                GB\n",
       "phone_number                                    00449098790034\n",
       "join_date                                           2017-07-17\n",
       "user_uuid                 ad783032-0a1f-4632-8f33-b808d5918f88\n",
       "Name: 3200, dtype: object"
      ]
     },
     "execution_count": 10,
     "metadata": {},
     "output_type": "execute_result"
    }
   ],
   "source": [
    "user_table.iloc[3187]"
   ]
  },
  {
   "cell_type": "code",
   "execution_count": 6,
   "metadata": {},
   "outputs": [
    {
     "name": "stdout",
     "output_type": "stream",
     "text": [
      "{'+', 'x', '('}\n"
     ]
    }
   ],
   "source": [
    "values = []\n",
    "char = set()\n",
    "for number in user_table[\"phone_number\"]:\n",
    "    for chars in number:\n",
    "        if chars in \"qwertyuioplkjhgfdsazxcvbnm!#$%&'()*.-+,/:;?@[\\]^_`{|}~\":\n",
    "            values.append(number)\n",
    "            char.add(chars)\n",
    "            break\n",
    "print(char)\n",
    "#user_table[user_table['phone_number'].isin(values)]\n",
    "#indices = user_table[user_table['first_name'].isin(values)].index\n",
    "#user_table.drop(indices, inplace=True)"
   ]
  },
  {
   "cell_type": "code",
   "execution_count": 7,
   "metadata": {},
   "outputs": [
    {
     "data": {
      "text/plain": [
       "first_name       0\n",
       "last_name        0\n",
       "date_of_birth    0\n",
       "company          0\n",
       "email_address    0\n",
       "address          0\n",
       "country          0\n",
       "country_code     0\n",
       "phone_number     0\n",
       "join_date        0\n",
       "user_uuid        0\n",
       "dtype: int64"
      ]
     },
     "execution_count": 7,
     "metadata": {},
     "output_type": "execute_result"
    }
   ],
   "source": [
    "# check for nulls\n",
    "user_table.isnull().sum()"
   ]
  }
 ],
 "metadata": {
  "kernelspec": {
   "display_name": "base",
   "language": "python",
   "name": "python3"
  },
  "language_info": {
   "codemirror_mode": {
    "name": "ipython",
    "version": 3
   },
   "file_extension": ".py",
   "mimetype": "text/x-python",
   "name": "python",
   "nbconvert_exporter": "python",
   "pygments_lexer": "ipython3",
   "version": "3.9.16"
  },
  "orig_nbformat": 4
 },
 "nbformat": 4,
 "nbformat_minor": 2
}
