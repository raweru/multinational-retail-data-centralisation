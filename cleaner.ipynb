{
 "cells": [
  {
   "cell_type": "code",
   "execution_count": 1,
   "metadata": {},
   "outputs": [],
   "source": [
    "import yaml\n",
    "from sqlalchemy import create_engine\n",
    "from sqlalchemy import inspect\n",
    "import pandas as pd\n",
    "import numpy as np\n",
    "from data_cleaning import DataCleaning\n",
    "from data_extraction import DataExtractor\n",
    "import tabula\n",
    "\n",
    "if __name__ == '__main__':\n",
    "    database_extractor = DataExtractor()\n",
    "    creds_dict = database_extractor.read_db_creds(\"db_creds.yaml\")\n",
    "    db_engine = database_extractor.init_db_engine(creds_dict)\n",
    "    user_table = database_extractor.read_rds_table(\"legacy_users\")"
   ]
  },
  {
   "cell_type": "code",
   "execution_count": 2,
   "metadata": {},
   "outputs": [],
   "source": [
    "extractor = DataExtractor()\n",
    "store_data = extractor.retrieve_stores_data(\"https://aqj7u5id95.execute-api.eu-west-1.amazonaws.com/prod/store_details/{}\")"
   ]
  },
  {
   "cell_type": "code",
   "execution_count": 101,
   "metadata": {},
   "outputs": [
    {
     "name": "stdout",
     "output_type": "stream",
     "text": [
      "<class 'pandas.core.frame.DataFrame'>\n",
      "Int64Index: 441 entries, 0 to 450\n",
      "Data columns (total 11 columns):\n",
      " #   Column         Non-Null Count  Dtype \n",
      "---  ------         --------------  ----- \n",
      " 0   index          441 non-null    int64 \n",
      " 1   address        440 non-null    object\n",
      " 2   longitude      440 non-null    object\n",
      " 3   locality       440 non-null    object\n",
      " 4   store_code     441 non-null    object\n",
      " 5   staff_numbers  441 non-null    object\n",
      " 6   opening_date   441 non-null    object\n",
      " 7   store_type     441 non-null    object\n",
      " 8   latitude       440 non-null    object\n",
      " 9   country_code   441 non-null    object\n",
      " 10  continent      441 non-null    object\n",
      "dtypes: int64(1), object(10)\n",
      "memory usage: 41.3+ KB\n"
     ]
    }
   ],
   "source": [
    "store_data.info()"
   ]
  },
  {
   "cell_type": "code",
   "execution_count": 95,
   "metadata": {},
   "outputs": [],
   "source": [
    "store_data[\"opening_date\"] = pd.to_datetime(\n",
    "    store_data[\"opening_date\"], errors=\"coerce\"\n",
    ")\n",
    "# reformat the date column to YYYY-MM-DD\n",
    "store_data[\"opening_date\"] = store_data[\n",
    "    \"opening_date\"\n",
    "].dt.strftime(\"%Y-%m-%d\")"
   ]
  },
  {
   "cell_type": "code",
   "execution_count": 97,
   "metadata": {},
   "outputs": [
    {
     "data": {
      "text/plain": [
       "array(['Europe', 'America'], dtype=object)"
      ]
     },
     "execution_count": 97,
     "metadata": {},
     "output_type": "execute_result"
    }
   ],
   "source": [
    "store_data.continent.unique()"
   ]
  },
  {
   "cell_type": "code",
   "execution_count": 102,
   "metadata": {},
   "outputs": [
    {
     "data": {
      "text/html": [
       "<div>\n",
       "<style scoped>\n",
       "    .dataframe tbody tr th:only-of-type {\n",
       "        vertical-align: middle;\n",
       "    }\n",
       "\n",
       "    .dataframe tbody tr th {\n",
       "        vertical-align: top;\n",
       "    }\n",
       "\n",
       "    .dataframe thead th {\n",
       "        text-align: right;\n",
       "    }\n",
       "</style>\n",
       "<table border=\"1\" class=\"dataframe\">\n",
       "  <thead>\n",
       "    <tr style=\"text-align: right;\">\n",
       "      <th></th>\n",
       "      <th>index</th>\n",
       "      <th>address</th>\n",
       "      <th>longitude</th>\n",
       "      <th>locality</th>\n",
       "      <th>store_code</th>\n",
       "      <th>staff_numbers</th>\n",
       "      <th>opening_date</th>\n",
       "      <th>store_type</th>\n",
       "      <th>latitude</th>\n",
       "      <th>country_code</th>\n",
       "      <th>continent</th>\n",
       "    </tr>\n",
       "  </thead>\n",
       "  <tbody>\n",
       "    <tr>\n",
       "      <th>0</th>\n",
       "      <td>0</td>\n",
       "      <td>NaN</td>\n",
       "      <td>NaN</td>\n",
       "      <td>NaN</td>\n",
       "      <td>WEB-1388012W</td>\n",
       "      <td>325</td>\n",
       "      <td>2010-06-12</td>\n",
       "      <td>Web Portal</td>\n",
       "      <td>None</td>\n",
       "      <td>GB</td>\n",
       "      <td>Europe</td>\n",
       "    </tr>\n",
       "    <tr>\n",
       "      <th>1</th>\n",
       "      <td>1</td>\n",
       "      <td>Flat 72W, Sally isle, East Deantown, E7B 8EB, ...</td>\n",
       "      <td>51.62907</td>\n",
       "      <td>High Wycombe</td>\n",
       "      <td>HI-9B97EE4E</td>\n",
       "      <td>34</td>\n",
       "      <td>1996-10-25</td>\n",
       "      <td>Local</td>\n",
       "      <td>-0.74934</td>\n",
       "      <td>GB</td>\n",
       "      <td>Europe</td>\n",
       "    </tr>\n",
       "    <tr>\n",
       "      <th>2</th>\n",
       "      <td>2</td>\n",
       "      <td>Heckerstraße 4/5, 50491 Säckingen, Landshut</td>\n",
       "      <td>48.52961</td>\n",
       "      <td>Landshut</td>\n",
       "      <td>LA-0772C7B9</td>\n",
       "      <td>92</td>\n",
       "      <td>2013-04-12</td>\n",
       "      <td>Super Store</td>\n",
       "      <td>12.16179</td>\n",
       "      <td>DE</td>\n",
       "      <td>Europe</td>\n",
       "    </tr>\n",
       "    <tr>\n",
       "      <th>3</th>\n",
       "      <td>3</td>\n",
       "      <td>5 Harrison tunnel, South Lydia, WC9 2BE, Westbury</td>\n",
       "      <td>51.26</td>\n",
       "      <td>Westbury</td>\n",
       "      <td>WE-1DE82CEE</td>\n",
       "      <td>69</td>\n",
       "      <td>2014-01-02</td>\n",
       "      <td>Super Store</td>\n",
       "      <td>-2.1875</td>\n",
       "      <td>GB</td>\n",
       "      <td>Europe</td>\n",
       "    </tr>\n",
       "    <tr>\n",
       "      <th>4</th>\n",
       "      <td>4</td>\n",
       "      <td>Studio 6, Stephen landing, South Simon, B77 2W...</td>\n",
       "      <td>53.0233</td>\n",
       "      <td>Belper</td>\n",
       "      <td>BE-18074576</td>\n",
       "      <td>35</td>\n",
       "      <td>2019-09-09</td>\n",
       "      <td>Local</td>\n",
       "      <td>-1.48119</td>\n",
       "      <td>GB</td>\n",
       "      <td>Europe</td>\n",
       "    </tr>\n",
       "    <tr>\n",
       "      <th>5</th>\n",
       "      <td>5</td>\n",
       "      <td>Flat 92u, Christian harbors, Port Charlotte, N...</td>\n",
       "      <td>53.38333</td>\n",
       "      <td>Gainsborough</td>\n",
       "      <td>GA-CAD01AC2</td>\n",
       "      <td>36</td>\n",
       "      <td>1995-05-15</td>\n",
       "      <td>Local</td>\n",
       "      <td>-0.76667</td>\n",
       "      <td>GB</td>\n",
       "      <td>Europe</td>\n",
       "    </tr>\n",
       "    <tr>\n",
       "      <th>6</th>\n",
       "      <td>6</td>\n",
       "      <td>7 Gillian rue, West Robertside, PH4 8NY, Ruthe...</td>\n",
       "      <td>55.82885</td>\n",
       "      <td>Rutherglen</td>\n",
       "      <td>RU-C603E990</td>\n",
       "      <td>92</td>\n",
       "      <td>2001-01-04</td>\n",
       "      <td>Super Store</td>\n",
       "      <td>-4.21376</td>\n",
       "      <td>GB</td>\n",
       "      <td>Europe</td>\n",
       "    </tr>\n",
       "    <tr>\n",
       "      <th>7</th>\n",
       "      <td>7</td>\n",
       "      <td>Lilija-Heß-Allee 660, 34566 Regensburg, Stuttgart</td>\n",
       "      <td>48.78232</td>\n",
       "      <td>Stuttgart</td>\n",
       "      <td>ST-229D997E</td>\n",
       "      <td>34</td>\n",
       "      <td>2000-06-01</td>\n",
       "      <td>Local</td>\n",
       "      <td>9.17702</td>\n",
       "      <td>DE</td>\n",
       "      <td>Europe</td>\n",
       "    </tr>\n",
       "    <tr>\n",
       "      <th>8</th>\n",
       "      <td>8</td>\n",
       "      <td>510 Jill Mill, South Laura, FL 38723, Kaukauna</td>\n",
       "      <td>44.27804</td>\n",
       "      <td>Kaukauna</td>\n",
       "      <td>KA-FA7ED3B8</td>\n",
       "      <td>31</td>\n",
       "      <td>2022-09-05</td>\n",
       "      <td>Local</td>\n",
       "      <td>-88.27205</td>\n",
       "      <td>US</td>\n",
       "      <td>America</td>\n",
       "    </tr>\n",
       "    <tr>\n",
       "      <th>9</th>\n",
       "      <td>9</td>\n",
       "      <td>3 Lee valleys, West Janetview, DY4M 2RL, Hartley</td>\n",
       "      <td>51.38673</td>\n",
       "      <td>Hartley</td>\n",
       "      <td>HA-974352FE</td>\n",
       "      <td>20</td>\n",
       "      <td>2004-09-11</td>\n",
       "      <td>Local</td>\n",
       "      <td>0.30367</td>\n",
       "      <td>GB</td>\n",
       "      <td>Europe</td>\n",
       "    </tr>\n",
       "    <tr>\n",
       "      <th>10</th>\n",
       "      <td>10</td>\n",
       "      <td>8 Gareth skyway, Simmonsview, SW4 7PL, Rutherglen</td>\n",
       "      <td>55.82885</td>\n",
       "      <td>Rutherglen</td>\n",
       "      <td>RU-9F1136B4</td>\n",
       "      <td>32</td>\n",
       "      <td>2012-10-08</td>\n",
       "      <td>Local</td>\n",
       "      <td>-4.21376</td>\n",
       "      <td>GB</td>\n",
       "      <td>Europe</td>\n",
       "    </tr>\n",
       "    <tr>\n",
       "      <th>11</th>\n",
       "      <td>11</td>\n",
       "      <td>Bergerstr. 1/3, 59183 Seelow, Siegburg</td>\n",
       "      <td>50.80019</td>\n",
       "      <td>Siegburg</td>\n",
       "      <td>SI-ECD52CD9</td>\n",
       "      <td>25</td>\n",
       "      <td>2015-07-14</td>\n",
       "      <td>Local</td>\n",
       "      <td>7.20769</td>\n",
       "      <td>DE</td>\n",
       "      <td>Europe</td>\n",
       "    </tr>\n",
       "  </tbody>\n",
       "</table>\n",
       "</div>"
      ],
      "text/plain": [
       "    index                                            address longitude  \\\n",
       "0       0                                                NaN       NaN   \n",
       "1       1  Flat 72W, Sally isle, East Deantown, E7B 8EB, ...  51.62907   \n",
       "2       2        Heckerstraße 4/5, 50491 Säckingen, Landshut  48.52961   \n",
       "3       3  5 Harrison tunnel, South Lydia, WC9 2BE, Westbury     51.26   \n",
       "4       4  Studio 6, Stephen landing, South Simon, B77 2W...   53.0233   \n",
       "5       5  Flat 92u, Christian harbors, Port Charlotte, N...  53.38333   \n",
       "6       6  7 Gillian rue, West Robertside, PH4 8NY, Ruthe...  55.82885   \n",
       "7       7  Lilija-Heß-Allee 660, 34566 Regensburg, Stuttgart  48.78232   \n",
       "8       8     510 Jill Mill, South Laura, FL 38723, Kaukauna  44.27804   \n",
       "9       9   3 Lee valleys, West Janetview, DY4M 2RL, Hartley  51.38673   \n",
       "10     10  8 Gareth skyway, Simmonsview, SW4 7PL, Rutherglen  55.82885   \n",
       "11     11             Bergerstr. 1/3, 59183 Seelow, Siegburg  50.80019   \n",
       "\n",
       "        locality    store_code staff_numbers opening_date   store_type  \\\n",
       "0            NaN  WEB-1388012W           325   2010-06-12   Web Portal   \n",
       "1   High Wycombe   HI-9B97EE4E            34   1996-10-25        Local   \n",
       "2       Landshut   LA-0772C7B9            92   2013-04-12  Super Store   \n",
       "3       Westbury   WE-1DE82CEE            69   2014-01-02  Super Store   \n",
       "4         Belper   BE-18074576            35   2019-09-09        Local   \n",
       "5   Gainsborough   GA-CAD01AC2            36   1995-05-15        Local   \n",
       "6     Rutherglen   RU-C603E990            92   2001-01-04  Super Store   \n",
       "7      Stuttgart   ST-229D997E            34   2000-06-01        Local   \n",
       "8       Kaukauna   KA-FA7ED3B8            31   2022-09-05        Local   \n",
       "9        Hartley   HA-974352FE            20   2004-09-11        Local   \n",
       "10    Rutherglen   RU-9F1136B4            32   2012-10-08        Local   \n",
       "11      Siegburg   SI-ECD52CD9            25   2015-07-14        Local   \n",
       "\n",
       "     latitude country_code continent  \n",
       "0        None           GB    Europe  \n",
       "1    -0.74934           GB    Europe  \n",
       "2    12.16179           DE    Europe  \n",
       "3     -2.1875           GB    Europe  \n",
       "4    -1.48119           GB    Europe  \n",
       "5    -0.76667           GB    Europe  \n",
       "6    -4.21376           GB    Europe  \n",
       "7     9.17702           DE    Europe  \n",
       "8   -88.27205           US   America  \n",
       "9     0.30367           GB    Europe  \n",
       "10   -4.21376           GB    Europe  \n",
       "11    7.20769           DE    Europe  "
      ]
     },
     "execution_count": 102,
     "metadata": {},
     "output_type": "execute_result"
    }
   ],
   "source": [
    "store_data.head(12)"
   ]
  },
  {
   "cell_type": "code",
   "execution_count": 80,
   "metadata": {},
   "outputs": [
    {
     "name": "stdout",
     "output_type": "stream",
     "text": [
      "[]\n"
     ]
    }
   ],
   "source": [
    "values = []\n",
    "for name in store_data[\"staff_numbers\"]:\n",
    "    if pd.notnull(name):  # Check if the value is not NaN\n",
    "        for letter in name:\n",
    "            if letter in \"qwertyuiopasdfghjklmnbvcxzQWERTYUIOPLKJHGFDSAZXCVBNM!#$%&'()*+,:;?@[\\]^_`{|}~\":\n",
    "                values.append(name)\n",
    "                break\n",
    "print(values)\n",
    "#indices = store_data[store_data[\"staff_numbers\"].isin(values)].index\n",
    "#store_data.drop(indices, inplace=True)"
   ]
  },
  {
   "cell_type": "code",
   "execution_count": 79,
   "metadata": {},
   "outputs": [
    {
     "name": "stderr",
     "output_type": "stream",
     "text": [
      "C:\\Users\\domin\\AppData\\Local\\Temp\\ipykernel_3584\\2681074741.py:1: FutureWarning: The default value of regex will change from True to False in a future version.\n",
      "  store_data['staff_numbers'] = store_data['staff_numbers'].str.replace('[a-zA-Z]', '')\n"
     ]
    }
   ],
   "source": [
    "store_data['staff_numbers'] = store_data['staff_numbers'].str.replace('[a-zA-Z]', '')"
   ]
  },
  {
   "cell_type": "code",
   "execution_count": 47,
   "metadata": {},
   "outputs": [],
   "source": [
    "store_data.drop(labels=[217, 405, 437], axis=0, inplace=True)"
   ]
  },
  {
   "cell_type": "code",
   "execution_count": 19,
   "metadata": {},
   "outputs": [
    {
     "ename": "ValueError",
     "evalue": "Cannot mask with non-boolean array containing NA / NaN values",
     "output_type": "error",
     "traceback": [
      "\u001b[1;31m---------------------------------------------------------------------------\u001b[0m",
      "\u001b[1;31mValueError\u001b[0m                                Traceback (most recent call last)",
      "Cell \u001b[1;32mIn[19], line 1\u001b[0m\n\u001b[1;32m----> 1\u001b[0m store_data[store_data[\u001b[39m\"\u001b[39;49m\u001b[39maddress\u001b[39;49m\u001b[39m\"\u001b[39;49m]\u001b[39m.\u001b[39;49mstr\u001b[39m.\u001b[39;49mcontains(\u001b[39m\"\u001b[39;49m\u001b[39mNULL\u001b[39;49m\u001b[39m\"\u001b[39;49m, regex\u001b[39m=\u001b[39;49m\u001b[39mFalse\u001b[39;49;00m)]\n",
      "File \u001b[1;32mc:\\Users\\domin\\anaconda3\\lib\\site-packages\\pandas\\core\\frame.py:3797\u001b[0m, in \u001b[0;36mDataFrame.__getitem__\u001b[1;34m(self, key)\u001b[0m\n\u001b[0;32m   3794\u001b[0m     \u001b[39mreturn\u001b[39;00m \u001b[39mself\u001b[39m\u001b[39m.\u001b[39mwhere(key)\n\u001b[0;32m   3796\u001b[0m \u001b[39m# Do we have a (boolean) 1d indexer?\u001b[39;00m\n\u001b[1;32m-> 3797\u001b[0m \u001b[39mif\u001b[39;00m com\u001b[39m.\u001b[39;49mis_bool_indexer(key):\n\u001b[0;32m   3798\u001b[0m     \u001b[39mreturn\u001b[39;00m \u001b[39mself\u001b[39m\u001b[39m.\u001b[39m_getitem_bool_array(key)\n\u001b[0;32m   3800\u001b[0m \u001b[39m# We are left with two options: a single key, and a collection of keys,\u001b[39;00m\n\u001b[0;32m   3801\u001b[0m \u001b[39m# We interpret tuples as collections only for non-MultiIndex\u001b[39;00m\n",
      "File \u001b[1;32mc:\\Users\\domin\\anaconda3\\lib\\site-packages\\pandas\\core\\common.py:135\u001b[0m, in \u001b[0;36mis_bool_indexer\u001b[1;34m(key)\u001b[0m\n\u001b[0;32m    131\u001b[0m     na_msg \u001b[39m=\u001b[39m \u001b[39m\"\u001b[39m\u001b[39mCannot mask with non-boolean array containing NA / NaN values\u001b[39m\u001b[39m\"\u001b[39m\n\u001b[0;32m    132\u001b[0m     \u001b[39mif\u001b[39;00m lib\u001b[39m.\u001b[39minfer_dtype(key_array) \u001b[39m==\u001b[39m \u001b[39m\"\u001b[39m\u001b[39mboolean\u001b[39m\u001b[39m\"\u001b[39m \u001b[39mand\u001b[39;00m isna(key_array)\u001b[39m.\u001b[39many():\n\u001b[0;32m    133\u001b[0m         \u001b[39m# Don't raise on e.g. [\"A\", \"B\", np.nan], see\u001b[39;00m\n\u001b[0;32m    134\u001b[0m         \u001b[39m#  test_loc_getitem_list_of_labels_categoricalindex_with_na\u001b[39;00m\n\u001b[1;32m--> 135\u001b[0m         \u001b[39mraise\u001b[39;00m \u001b[39mValueError\u001b[39;00m(na_msg)\n\u001b[0;32m    136\u001b[0m     \u001b[39mreturn\u001b[39;00m \u001b[39mFalse\u001b[39;00m\n\u001b[0;32m    137\u001b[0m \u001b[39mreturn\u001b[39;00m \u001b[39mTrue\u001b[39;00m\n",
      "\u001b[1;31mValueError\u001b[0m: Cannot mask with non-boolean array containing NA / NaN values"
     ]
    }
   ],
   "source": [
    "store_data[store_data[\"address\"].str.contains(\"NULL\", regex=False)]"
   ]
  },
  {
   "cell_type": "code",
   "execution_count": 3,
   "metadata": {},
   "outputs": [
    {
     "data": {
      "text/plain": [
       "451"
      ]
     },
     "execution_count": 3,
     "metadata": {},
     "output_type": "execute_result"
    }
   ],
   "source": [
    "extractor = DataExtractor()\n",
    "number_of_stores = extractor.list_number_of_stores(\"https://aqj7u5id95.execute-api.eu-west-1.amazonaws.com/prod/number_stores\")\n",
    "number_of_stores  # prints the number of stores in the business\n"
   ]
  },
  {
   "cell_type": "code",
   "execution_count": 70,
   "metadata": {},
   "outputs": [
    {
     "data": {
      "text/plain": [
       "array(['09/26', '10/23', '09/27', '11/23', '07/27', '10/28', '11/27',\n",
       "       '11/31', '01/29', '02/32', '08/28', '09/32', '05/30', '06/28',\n",
       "       '07/24', '07/31', '03/32', '12/30', '12/25', '06/24', '10/30',\n",
       "       '04/32', '05/28', '08/27', '02/23', '08/26', '02/24', '03/29',\n",
       "       '06/25', '07/30', '01/24', '07/23', '06/31', '03/24', '02/25',\n",
       "       '01/23', '02/30', '03/27', '09/25', '07/28', '03/28', '06/29',\n",
       "       '04/23', '03/23', '05/27', '04/28', '07/32', '10/24', '11/26',\n",
       "       '02/29', '08/25', '12/22', '07/29', '07/25', '05/31', '04/24',\n",
       "       '05/25', '06/32', '05/32', '12/27', '09/31', '01/31', '11/25',\n",
       "       '12/28', '10/27', '03/26', '03/31', '10/25', '08/29', '01/28',\n",
       "       '06/30', '05/26', '04/29', '08/30', '12/23', '11/29', '02/31',\n",
       "       '09/29', '09/28', '01/27', '05/24', '08/31', '03/25', '04/31',\n",
       "       '11/24', '08/23', '04/30', '02/28', '01/30', '12/26', '10/26',\n",
       "       '04/25', '12/31', '03/30', '11/30', '08/24', '06/23', '06/27',\n",
       "       '10/31', '09/24', '01/26', '11/32', '09/23', '05/29', '04/27',\n",
       "       '12/29', '11/22', '02/26', '06/26', '01/32', '10/29', '11/28',\n",
       "       '08/32', '07/26', '02/27', '12/24', '10/32', '04/26', '01/25',\n",
       "       '05/23', '09/30'], dtype=object)"
      ]
     },
     "execution_count": 70,
     "metadata": {},
     "output_type": "execute_result"
    }
   ],
   "source": [
    "card_table[\"expiry_date\"].unique()"
   ]
  },
  {
   "cell_type": "code",
   "execution_count": 6,
   "metadata": {},
   "outputs": [
    {
     "name": "stdout",
     "output_type": "stream",
     "text": [
      "<class 'pandas.core.frame.DataFrame'>\n",
      "Int64Index: 15320 entries, 0 to 1249\n",
      "Data columns (total 11 columns):\n",
      " #   Column         Non-Null Count  Dtype \n",
      "---  ------         --------------  ----- \n",
      " 0   first_name     15320 non-null  object\n",
      " 1   last_name      15320 non-null  object\n",
      " 2   date_of_birth  15320 non-null  object\n",
      " 3   company        15320 non-null  object\n",
      " 4   email_address  15320 non-null  object\n",
      " 5   address        15320 non-null  object\n",
      " 6   country        15320 non-null  object\n",
      " 7   country_code   15320 non-null  object\n",
      " 8   phone_number   15320 non-null  object\n",
      " 9   join_date      15320 non-null  object\n",
      " 10  user_uuid      15320 non-null  object\n",
      "dtypes: object(11)\n",
      "memory usage: 1.4+ MB\n"
     ]
    }
   ],
   "source": [
    "user_table.info()"
   ]
  },
  {
   "cell_type": "code",
   "execution_count": 2,
   "metadata": {},
   "outputs": [],
   "source": [
    "data_cleaner = DataCleaning()\n",
    "user_table = data_cleaner.clean_user_data(user_table)"
   ]
  },
  {
   "cell_type": "code",
   "execution_count": 5,
   "metadata": {},
   "outputs": [
    {
     "data": {
      "text/plain": [
       "array(['2018-10-10', '2001-12-20', '2016-12-16', ..., '2016-04-15',\n",
       "       '2021-03-07', '2015-08-28'], dtype=object)"
      ]
     },
     "execution_count": 5,
     "metadata": {},
     "output_type": "execute_result"
    }
   ],
   "source": [
    "user_table.join_date.unique()"
   ]
  },
  {
   "cell_type": "code",
   "execution_count": 16,
   "metadata": {},
   "outputs": [
    {
     "data": {
      "text/html": [
       "<div>\n",
       "<style scoped>\n",
       "    .dataframe tbody tr th:only-of-type {\n",
       "        vertical-align: middle;\n",
       "    }\n",
       "\n",
       "    .dataframe tbody tr th {\n",
       "        vertical-align: top;\n",
       "    }\n",
       "\n",
       "    .dataframe thead th {\n",
       "        text-align: right;\n",
       "    }\n",
       "</style>\n",
       "<table border=\"1\" class=\"dataframe\">\n",
       "  <thead>\n",
       "    <tr style=\"text-align: right;\">\n",
       "      <th></th>\n",
       "      <th>first_name</th>\n",
       "      <th>last_name</th>\n",
       "      <th>date_of_birth</th>\n",
       "      <th>company</th>\n",
       "      <th>email_address</th>\n",
       "      <th>address</th>\n",
       "      <th>country</th>\n",
       "      <th>country_code</th>\n",
       "      <th>phone_number</th>\n",
       "      <th>join_date</th>\n",
       "      <th>user_uuid</th>\n",
       "    </tr>\n",
       "    <tr>\n",
       "      <th>index</th>\n",
       "      <th></th>\n",
       "      <th></th>\n",
       "      <th></th>\n",
       "      <th></th>\n",
       "      <th></th>\n",
       "      <th></th>\n",
       "      <th></th>\n",
       "      <th></th>\n",
       "      <th></th>\n",
       "      <th></th>\n",
       "      <th></th>\n",
       "    </tr>\n",
       "  </thead>\n",
       "  <tbody>\n",
       "    <tr>\n",
       "      <th>3405</th>\n",
       "      <td>Heinz-Willi</td>\n",
       "      <td>Schinke</td>\n",
       "      <td>2004-01-01</td>\n",
       "      <td>Gieß AG &amp; Co. KGaA</td>\n",
       "      <td>karl-augustmatthaei@schueler.de</td>\n",
       "      <td>Schuchhardtplatz 3/9, 58699 Bogen</td>\n",
       "      <td>Germany</td>\n",
       "      <td>DE</td>\n",
       "      <td>0049136585690</td>\n",
       "      <td>2002-04-01</td>\n",
       "      <td>5a57b0c9-7411-4ad6-806e-becbb1cc8318</td>\n",
       "    </tr>\n",
       "    <tr>\n",
       "      <th>6445</th>\n",
       "      <td>Edeltraut</td>\n",
       "      <td>Riehl</td>\n",
       "      <td>1979-08-13</td>\n",
       "      <td>Hartung Atzler GmbH</td>\n",
       "      <td>korbinian84@pruschke.de</td>\n",
       "      <td>Gretel-Hentschel-Platz 3/0, 23554 Wernigerode</td>\n",
       "      <td>Germany</td>\n",
       "      <td>DE</td>\n",
       "      <td>00497590950165</td>\n",
       "      <td>2018-02-15</td>\n",
       "      <td>3ad79aa6-8c5f-493c-be47-0595eec2695a</td>\n",
       "    </tr>\n",
       "    <tr>\n",
       "      <th>7563</th>\n",
       "      <td>Birte</td>\n",
       "      <td>Höfig</td>\n",
       "      <td>1995-01-15</td>\n",
       "      <td>Schäfer GmbH &amp; Co. KGaA</td>\n",
       "      <td>amielcarek@thies.net</td>\n",
       "      <td>Gutknechtallee 532, 78970 Osterburg</td>\n",
       "      <td>Germany</td>\n",
       "      <td>DE</td>\n",
       "      <td>00493265418030</td>\n",
       "      <td>1996-02-09</td>\n",
       "      <td>8ed35d68-04b7-4b64-bb10-2f4d34aa8469</td>\n",
       "    </tr>\n",
       "    <tr>\n",
       "      <th>7888</th>\n",
       "      <td>Cathrin</td>\n",
       "      <td>Stiebitz</td>\n",
       "      <td>1983-04-13</td>\n",
       "      <td>Hiller</td>\n",
       "      <td>christlknappe@heidrich.net</td>\n",
       "      <td>Laszlo-Etzold-Ring 5/5, 72362 Schongau</td>\n",
       "      <td>Germany</td>\n",
       "      <td>DE</td>\n",
       "      <td>0049998302017</td>\n",
       "      <td>2016-09-11</td>\n",
       "      <td>c7cd819a-bbff-49cd-80c9-483feb6041f1</td>\n",
       "    </tr>\n",
       "    <tr>\n",
       "      <th>6677</th>\n",
       "      <td>Joyce</td>\n",
       "      <td>Walsh</td>\n",
       "      <td>1973-09-07</td>\n",
       "      <td>Pearce-Wells</td>\n",
       "      <td>woodfiona@lee.org</td>\n",
       "      <td>Flat 9, Miah summit, West Hayley, S4 3XW</td>\n",
       "      <td>United Kingdom</td>\n",
       "      <td>GB</td>\n",
       "      <td>00441914960737</td>\n",
       "      <td>2008-11-10</td>\n",
       "      <td>7bf9b15d-c8fd-470b-86be-2d7487e29c44</td>\n",
       "    </tr>\n",
       "    <tr>\n",
       "      <th>3404</th>\n",
       "      <td>Emilie</td>\n",
       "      <td>Stahr</td>\n",
       "      <td>1941-07-14</td>\n",
       "      <td>Holt</td>\n",
       "      <td>jdoehn@schweitzer.de</td>\n",
       "      <td>Stjepan-Preiß-Allee 0/5, 60361 Gerolzhofen</td>\n",
       "      <td>Germany</td>\n",
       "      <td>DE</td>\n",
       "      <td>00499691167228</td>\n",
       "      <td>2005-10-20</td>\n",
       "      <td>5dd255d1-82bc-4628-8e8e-79ad1351dae5</td>\n",
       "    </tr>\n",
       "    <tr>\n",
       "      <th>14674</th>\n",
       "      <td>Debra</td>\n",
       "      <td>Townsend</td>\n",
       "      <td>1989-02-03</td>\n",
       "      <td>Wall-James</td>\n",
       "      <td>naomi47@brown.com</td>\n",
       "      <td>5 Ian spur, Suttonton, HU9W 0RS</td>\n",
       "      <td>United Kingdom</td>\n",
       "      <td>GB</td>\n",
       "      <td>00442920180156</td>\n",
       "      <td>1999-02-07</td>\n",
       "      <td>d83a65aa-3e5e-448e-8d62-63068a24a307</td>\n",
       "    </tr>\n",
       "    <tr>\n",
       "      <th>10433</th>\n",
       "      <td>Larissa</td>\n",
       "      <td>Kraushaar</td>\n",
       "      <td>1962-12-09</td>\n",
       "      <td>Schlosser KG</td>\n",
       "      <td>gspiess@mueller.de</td>\n",
       "      <td>Thiesstr. 15, 97488 Bützow</td>\n",
       "      <td>Germany</td>\n",
       "      <td>DE</td>\n",
       "      <td>0049366998195</td>\n",
       "      <td>2010-12-11</td>\n",
       "      <td>f7c5e6b6-43c8-40ea-8cbe-4e68c2d83f3f</td>\n",
       "    </tr>\n",
       "  </tbody>\n",
       "</table>\n",
       "</div>"
      ],
      "text/plain": [
       "        first_name  last_name date_of_birth                  company  \\\n",
       "index                                                                  \n",
       "3405   Heinz-Willi    Schinke    2004-01-01       Gieß AG & Co. KGaA   \n",
       "6445     Edeltraut      Riehl    1979-08-13      Hartung Atzler GmbH   \n",
       "7563         Birte      Höfig    1995-01-15  Schäfer GmbH & Co. KGaA   \n",
       "7888       Cathrin   Stiebitz    1983-04-13                   Hiller   \n",
       "6677         Joyce      Walsh    1973-09-07             Pearce-Wells   \n",
       "3404        Emilie      Stahr    1941-07-14                     Holt   \n",
       "14674        Debra   Townsend    1989-02-03               Wall-James   \n",
       "10433      Larissa  Kraushaar    1962-12-09             Schlosser KG   \n",
       "\n",
       "                         email_address  \\\n",
       "index                                    \n",
       "3405   karl-augustmatthaei@schueler.de   \n",
       "6445           korbinian84@pruschke.de   \n",
       "7563              amielcarek@thies.net   \n",
       "7888        christlknappe@heidrich.net   \n",
       "6677                 woodfiona@lee.org   \n",
       "3404              jdoehn@schweitzer.de   \n",
       "14674                naomi47@brown.com   \n",
       "10433               gspiess@mueller.de   \n",
       "\n",
       "                                             address         country  \\\n",
       "index                                                                  \n",
       "3405               Schuchhardtplatz 3/9, 58699 Bogen         Germany   \n",
       "6445   Gretel-Hentschel-Platz 3/0, 23554 Wernigerode         Germany   \n",
       "7563             Gutknechtallee 532, 78970 Osterburg         Germany   \n",
       "7888          Laszlo-Etzold-Ring 5/5, 72362 Schongau         Germany   \n",
       "6677        Flat 9, Miah summit, West Hayley, S4 3XW  United Kingdom   \n",
       "3404      Stjepan-Preiß-Allee 0/5, 60361 Gerolzhofen         Germany   \n",
       "14674                5 Ian spur, Suttonton, HU9W 0RS  United Kingdom   \n",
       "10433                     Thiesstr. 15, 97488 Bützow         Germany   \n",
       "\n",
       "      country_code    phone_number   join_date  \\\n",
       "index                                            \n",
       "3405            DE   0049136585690  2002-04-01   \n",
       "6445            DE  00497590950165  2018-02-15   \n",
       "7563            DE  00493265418030  1996-02-09   \n",
       "7888            DE   0049998302017  2016-09-11   \n",
       "6677            GB  00441914960737  2008-11-10   \n",
       "3404            DE  00499691167228  2005-10-20   \n",
       "14674           GB  00442920180156  1999-02-07   \n",
       "10433           DE   0049366998195  2010-12-11   \n",
       "\n",
       "                                  user_uuid  \n",
       "index                                        \n",
       "3405   5a57b0c9-7411-4ad6-806e-becbb1cc8318  \n",
       "6445   3ad79aa6-8c5f-493c-be47-0595eec2695a  \n",
       "7563   8ed35d68-04b7-4b64-bb10-2f4d34aa8469  \n",
       "7888   c7cd819a-bbff-49cd-80c9-483feb6041f1  \n",
       "6677   7bf9b15d-c8fd-470b-86be-2d7487e29c44  \n",
       "3404   5dd255d1-82bc-4628-8e8e-79ad1351dae5  \n",
       "14674  d83a65aa-3e5e-448e-8d62-63068a24a307  \n",
       "10433  f7c5e6b6-43c8-40ea-8cbe-4e68c2d83f3f  "
      ]
     },
     "execution_count": 16,
     "metadata": {},
     "output_type": "execute_result"
    }
   ],
   "source": [
    "#user_table.set_index(\"index\", inplace=True)\n",
    "user_table.sample(8)"
   ]
  },
  {
   "cell_type": "code",
   "execution_count": 36,
   "metadata": {},
   "outputs": [
    {
     "data": {
      "text/html": [
       "<div>\n",
       "<style scoped>\n",
       "    .dataframe tbody tr th:only-of-type {\n",
       "        vertical-align: middle;\n",
       "    }\n",
       "\n",
       "    .dataframe tbody tr th {\n",
       "        vertical-align: top;\n",
       "    }\n",
       "\n",
       "    .dataframe thead th {\n",
       "        text-align: right;\n",
       "    }\n",
       "</style>\n",
       "<table border=\"1\" class=\"dataframe\">\n",
       "  <thead>\n",
       "    <tr style=\"text-align: right;\">\n",
       "      <th></th>\n",
       "      <th>index</th>\n",
       "      <th>first_name</th>\n",
       "      <th>last_name</th>\n",
       "      <th>date_of_birth</th>\n",
       "      <th>company</th>\n",
       "      <th>email_address</th>\n",
       "      <th>address</th>\n",
       "      <th>country</th>\n",
       "      <th>country_code</th>\n",
       "      <th>phone_number</th>\n",
       "      <th>join_date</th>\n",
       "      <th>user_uuid</th>\n",
       "    </tr>\n",
       "  </thead>\n",
       "  <tbody>\n",
       "  </tbody>\n",
       "</table>\n",
       "</div>"
      ],
      "text/plain": [
       "Empty DataFrame\n",
       "Columns: [index, first_name, last_name, date_of_birth, company, email_address, address, country, country_code, phone_number, join_date, user_uuid]\n",
       "Index: []"
      ]
     },
     "execution_count": 36,
     "metadata": {},
     "output_type": "execute_result"
    }
   ],
   "source": [
    "user_table[user_table[\"phone_number\"].str.contains(\"[qwertyuioplkjhgfdsazxcvbnm]\", regex=True) & (user_table[\"join_date\"] == \"GB\")]"
   ]
  },
  {
   "cell_type": "code",
   "execution_count": 10,
   "metadata": {},
   "outputs": [
    {
     "data": {
      "text/plain": [
       "first_name                                             Chelsea\n",
       "last_name                                               Murphy\n",
       "date_of_birth                                       1940-04-28\n",
       "company                                           Read-Harding\n",
       "email_address                              jadepowell@bird.com\n",
       "address          Flat 3, Preston curve, North Lindsey, ML9 6PU\n",
       "country                                         United Kingdom\n",
       "country_code                                                GB\n",
       "phone_number                                    00449098790034\n",
       "join_date                                           2017-07-17\n",
       "user_uuid                 ad783032-0a1f-4632-8f33-b808d5918f88\n",
       "Name: 3200, dtype: object"
      ]
     },
     "execution_count": 10,
     "metadata": {},
     "output_type": "execute_result"
    }
   ],
   "source": [
    "user_table.iloc[3187]"
   ]
  },
  {
   "cell_type": "code",
   "execution_count": 6,
   "metadata": {},
   "outputs": [
    {
     "name": "stdout",
     "output_type": "stream",
     "text": [
      "{'+', 'x', '('}\n"
     ]
    }
   ],
   "source": [
    "values = []\n",
    "char = set()\n",
    "for number in user_table[\"phone_number\"]:\n",
    "    for chars in number:\n",
    "        if chars in \"qwertyuioplkjhgfdsazxcvbnm!#$%&'()*.-+,/:;?@[\\]^_`{|}~\":\n",
    "            values.append(number)\n",
    "            char.add(chars)\n",
    "            break\n",
    "print(char)\n",
    "#user_table[user_table['phone_number'].isin(values)]\n",
    "#indices = user_table[user_table['first_name'].isin(values)].index\n",
    "#user_table.drop(indices, inplace=True)"
   ]
  },
  {
   "cell_type": "code",
   "execution_count": 7,
   "metadata": {},
   "outputs": [
    {
     "data": {
      "text/plain": [
       "first_name       0\n",
       "last_name        0\n",
       "date_of_birth    0\n",
       "company          0\n",
       "email_address    0\n",
       "address          0\n",
       "country          0\n",
       "country_code     0\n",
       "phone_number     0\n",
       "join_date        0\n",
       "user_uuid        0\n",
       "dtype: int64"
      ]
     },
     "execution_count": 7,
     "metadata": {},
     "output_type": "execute_result"
    }
   ],
   "source": [
    "# check for nulls\n",
    "user_table.isnull().sum()"
   ]
  }
 ],
 "metadata": {
  "kernelspec": {
   "display_name": "base",
   "language": "python",
   "name": "python3"
  },
  "language_info": {
   "codemirror_mode": {
    "name": "ipython",
    "version": 3
   },
   "file_extension": ".py",
   "mimetype": "text/x-python",
   "name": "python",
   "nbconvert_exporter": "python",
   "pygments_lexer": "ipython3",
   "version": "3.9.16"
  },
  "orig_nbformat": 4
 },
 "nbformat": 4,
 "nbformat_minor": 2
}
